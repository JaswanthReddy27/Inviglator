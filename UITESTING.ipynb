{
 "cells": [
  {
   "cell_type": "code",
   "execution_count": 1,
   "metadata": {},
   "outputs": [
    {
     "name": "stdout",
     "output_type": "stream",
     "text": [
      "Collecting selenium\n",
      "  Downloading https://files.pythonhosted.org/packages/80/d6/4294f0b4bce4de0abf13e17190289f9d0613b0a44e5dd6a7f5ca98459853/selenium-3.141.0-py2.py3-none-any.whl (904kB)\n",
      "Requirement already satisfied: urllib3 in c:\\users\\hp\\anaconda3\\lib\\site-packages (from selenium) (1.24.2)\n",
      "Installing collected packages: selenium\n",
      "Successfully installed selenium-3.141.0\n"
     ]
    }
   ],
   "source": [
    "!pip install selenium"
   ]
  },
  {
   "cell_type": "code",
   "execution_count": 1,
   "metadata": {},
   "outputs": [
    {
     "ename": "SyntaxError",
     "evalue": "invalid syntax (<ipython-input-1-0ae0130cafaf>, line 1)",
     "output_type": "error",
     "traceback": [
      "\u001b[1;36m  File \u001b[1;32m\"<ipython-input-1-0ae0130cafaf>\"\u001b[1;36m, line \u001b[1;32m1\u001b[0m\n\u001b[1;33m    file:///C:/Users/hp/Desktop/flameonepage-gh-pages/login.html\u001b[0m\n\u001b[1;37m          ^\u001b[0m\n\u001b[1;31mSyntaxError\u001b[0m\u001b[1;31m:\u001b[0m invalid syntax\n"
     ]
    }
   ],
   "source": [
    "file:///C:/Users/hp/Desktop/flameonepage-gh-pages/login.html"
   ]
  },
  {
   "cell_type": "code",
   "execution_count": 12,
   "metadata": {},
   "outputs": [
    {
     "name": "stdout",
     "output_type": "stream",
     "text": [
      "Test passed\n"
     ]
    }
   ],
   "source": [
    "#login button\n",
    "from selenium import webdriver\n",
    "import time\n",
    "try:\n",
    "        EXE_PATH = 'C:\\\\Users\\\\hp\\\\Downloads\\\\chromedriver_win32\\\\chromedriver.exe'\n",
    "        driver = webdriver.Chrome(executable_path=EXE_PATH)\n",
    "        host = 'file:///C:/Users/hp/Desktop/'\n",
    "        time_table = host + 'flameonepage-gh-pages/'\n",
    "        signup_link = time_table + 'index.html'\n",
    "        home_link=time_table+'login.html'\n",
    "        #driver.get('http://192.168.43.211/php_resume/signup.html')\n",
    "        driver.get(signup_link)\n",
    "        #Bad email, good password # Expected:fail\n",
    "\n",
    "        submit = driver.find_element_by_id('sub').click()\n",
    "        time.sleep(3)\n",
    "        if(driver.current_url == home_link):\n",
    "            print('Test passed')\n",
    "        else:\n",
    "            print('Test failed')\n",
    "            #print(\"in else\",driver.current_url)\n",
    "\n",
    "        driver.close()\n",
    "except:\n",
    "       print('Test failed')\n",
    "       driver.close()"
   ]
  },
  {
   "cell_type": "code",
   "execution_count": 13,
   "metadata": {},
   "outputs": [
    {
     "name": "stdout",
     "output_type": "stream",
     "text": [
      "Test passed\n"
     ]
    }
   ],
   "source": [
    "#signup button\n",
    "from selenium import webdriver\n",
    "import time\n",
    "try:\n",
    "        EXE_PATH = 'C:\\\\Users\\\\hp\\\\Downloads\\\\chromedriver_win32\\\\chromedriver.exe'\n",
    "        driver = webdriver.Chrome(executable_path=EXE_PATH)\n",
    "        host = 'file:///C:/Users/hp/Desktop/'\n",
    "        time_table = host + 'flameonepage-gh-pages/'\n",
    "        signup_link = time_table + 'index.html'\n",
    "        home_link=time_table+'signup.html'\n",
    "        #driver.get('http://192.168.43.211/php_resume/signup.html')\n",
    "        driver.get(signup_link)\n",
    "        #Bad email, good password # Expected:fail\n",
    "\n",
    "        submit = driver.find_element_by_id('sub1').click()\n",
    "        time.sleep(3)\n",
    "        if(driver.current_url == home_link):\n",
    "            print('Test passed')\n",
    "        else:\n",
    "            print('Test failed')\n",
    "            #print(\"in else\",driver.current_url)\n",
    "\n",
    "        driver.close()\n",
    "except:\n",
    "       print('Test failed')\n",
    "       driver.close()"
   ]
  },
  {
   "cell_type": "code",
   "execution_count": 14,
   "metadata": {},
   "outputs": [
    {
     "name": "stdout",
     "output_type": "stream",
     "text": [
      "Testing for Username:cb.tc.3& Password:Rammohan1\n",
      "Test passed\n",
      ".\n",
      ".\n",
      ".\n",
      ".\n",
      ".\n",
      "Testing for Username:cb.tc.4& Password:hey\n",
      "Test failed\n"
     ]
    }
   ],
   "source": [
    "#login credentials button\n",
    "from selenium import webdriver\n",
    "import time\n",
    "\n",
    "def loginUItestkaro(un,pw):\n",
    "    try:\n",
    "        print(\"Testing for Username:\"+un+\"& Password:\"+pw)\n",
    "        EXE_PATH = 'C:\\\\Users\\\\hp\\\\Downloads\\\\chromedriver_win32\\\\chromedriver.exe'\n",
    "        driver = webdriver.Chrome(executable_path=EXE_PATH)\n",
    "        host = 'file:///C:/Users/hp/Desktop/'\n",
    "        time_table = host + 'flameonepage-gh-pages/'\n",
    "        signup_link = time_table + 'login.html'\n",
    "        home_link=time_table+'loginhm.html'\n",
    "        #driver.get('http://192.168.43.211/php_resume/signup.html')\n",
    "        driver.get(signup_link)\n",
    "        #Bad email, good password # Expected:fail\n",
    "\n",
    "        email_field = driver.find_element_by_id('un')\n",
    "        email_field.send_keys(un)\n",
    "\n",
    "        password = pw\n",
    "        password_field = driver.find_element_by_id('pass')\n",
    "        password_field.send_keys(password)\n",
    "\n",
    "        submit = driver.find_element_by_id('sub').click()\n",
    "        time.sleep(3)\n",
    "        if(driver.current_url == home_link):\n",
    "            print('Test passed')\n",
    "        else:\n",
    "            print('Test failed')\n",
    "            print(\"in else\",driver.current_url)\n",
    "\n",
    "        driver.close()\n",
    "    except:\n",
    "        print('Test failed')\n",
    "        driver.close()\n",
    "    \n",
    "loginUItestkaro('cb.tc.3','Rammohan1')\n",
    "for i in range(5):\n",
    "    print(\".\")\n",
    "    time.sleep(0.3)\n",
    "loginUItestkaro('cb.tc.4','hey')\n"
   ]
  },
  {
   "cell_type": "code",
   "execution_count": 15,
   "metadata": {},
   "outputs": [
    {
     "name": "stdout",
     "output_type": "stream",
     "text": [
      "Test passed\n",
      ".\n",
      ".\n",
      ".\n",
      ".\n",
      ".\n",
      "Test failed exception file:///C:/Users/hp/Desktop/flameonepage-gh-pages/signup.html\n"
     ]
    }
   ],
   "source": [
    "#Signup credentials button\n",
    "from selenium import webdriver\n",
    "import time\n",
    "\n",
    "def signupUItestkaro(name,dob,email,phno,pw,cpw):\n",
    "    try:\n",
    "        #print(\"Testing for Username:\"+un+\"& Password:\"+pw)\n",
    "        EXE_PATH = 'C:\\\\Users\\\\hp\\\\Downloads\\\\chromedriver_win32\\\\chromedriver.exe'\n",
    "        driver = webdriver.Chrome(executable_path=EXE_PATH)\n",
    "        host = 'file:///C:/Users/hp/Desktop/'\n",
    "        time_table = host + 'flameonepage-gh-pages/'\n",
    "        signup_link = time_table + 'signup.html'\n",
    "        home_link=time_table+'profile.html?q=0'\n",
    "        #driver.get('http://192.168.43.211/php_resume/signup.html')\n",
    "        driver.get(signup_link)\n",
    "        #Bad email, good password # Expected:fail\n",
    "        \n",
    "        name_field = driver.find_element_by_id('name')\n",
    "        name_field.send_keys(name)\n",
    "        \n",
    "        email_field = driver.find_element_by_id('mail')\n",
    "        email_field.send_keys(email)\n",
    "        \n",
    "        dob_field = driver.find_element_by_id('date')\n",
    "        dob_field.send_keys(dob)\n",
    "        \n",
    "        phno_field = driver.find_element_by_id('phno')\n",
    "        phno_field.send_keys(phno)\n",
    "\n",
    "        #password = pw\n",
    "        password_field = driver.find_element_by_id('pass')\n",
    "        password_field.send_keys(pw)\n",
    "        \n",
    "        c_password_field = driver.find_element_by_id('pass1')\n",
    "        c_password_field.send_keys(cpw)\n",
    "        \n",
    "        submit = driver.find_element_by_id('sub').click()\n",
    "        time.sleep(5)\n",
    "        \n",
    "        if(driver.current_url == home_link):\n",
    "            print('Test passed')\n",
    "        else:\n",
    "            print('Test failed')\n",
    "            print(\"in else\",driver.current_url)\n",
    "\n",
    "        driver.close()\n",
    "    except:\n",
    "        if(driver.current_url == home_link):\n",
    "            print('Test passed')\n",
    "        else:\n",
    "            print('Test failed exception',driver.current_url)\n",
    "        driver.close()\n",
    "    \n",
    "signupUItestkaro('Sanj','12/05/1996','sanj@gmail.com','9845678912','Six123','Six123')\n",
    "for i in range(5):\n",
    "    print(\".\")\n",
    "    time.sleep(0.3)\n",
    "signupUItestkaro('Maams','05/12/1996','sanjeev@gmail.com','9845678916','Seven7','Six654')\n"
   ]
  },
  {
   "cell_type": "code",
   "execution_count": 5,
   "metadata": {},
   "outputs": [
    {
     "name": "stdout",
     "output_type": "stream",
     "text": [
      "Test passed\n"
     ]
    }
   ],
   "source": [
    "#login ---> View profile button ---> Profile\n",
    "from selenium import webdriver\n",
    "import time\n",
    "try:\n",
    "        EXE_PATH = 'C:\\\\Users\\\\hp\\\\Downloads\\\\chromedriver_win32\\\\chromedriver.exe'\n",
    "        driver = webdriver.Chrome(executable_path=EXE_PATH)\n",
    "        host = 'file:///C:/Users/hp/Desktop/'\n",
    "        time_table = host + 'flameonepage-gh-pages/'\n",
    "        signup_link = time_table + 'loginhm.html'\n",
    "        home_link=time_table+'profile.html?q=1'\n",
    "        #driver.get('http://192.168.43.211/php_resume/signup.html')\n",
    "        driver.get(signup_link)\n",
    "        driver.execute_script(\"window.localStorage.setItem('un','cb.tc.3');\");\n",
    "        #Bad email, good password # Expected:fail\n",
    "\n",
    "        submit = driver.find_element_by_id('prof').click()\n",
    "        time.sleep(3)\n",
    "        if(driver.current_url == home_link):\n",
    "            print('Test passed')\n",
    "        else:\n",
    "            print('Test failed')\n",
    "            #print(\"in else\",driver.current_url)\n",
    "\n",
    "        driver.close()\n",
    "except:\n",
    "       print('Test failed in exception')\n",
    "       driver.close()"
   ]
  },
  {
   "cell_type": "code",
   "execution_count": 6,
   "metadata": {},
   "outputs": [
    {
     "name": "stdout",
     "output_type": "stream",
     "text": [
      "Test passed\n"
     ]
    }
   ],
   "source": [
    "#admin ---> View  ---> View Teachers\n",
    "from selenium import webdriver\n",
    "import time\n",
    "try:\n",
    "        EXE_PATH = 'C:\\\\Users\\\\hp\\\\Downloads\\\\chromedriver_win32\\\\chromedriver.exe'\n",
    "        driver = webdriver.Chrome(executable_path=EXE_PATH)\n",
    "        host = 'file:///C:/Users/hp/Desktop/'\n",
    "        time_table = host + 'flameonepage-gh-pages/'\n",
    "        signup_link = time_table + 'admin.html'\n",
    "        home_link=time_table+'view.html'\n",
    "        #driver.get('http://192.168.43.211/php_resume/signup.html')\n",
    "        driver.get(signup_link)\n",
    "        #Bad email, good password # Expected:fail\n",
    "\n",
    "        submit = driver.find_element_by_id('view').click()\n",
    "        time.sleep(3)\n",
    "        if(driver.current_url == home_link):\n",
    "            print('Test passed')\n",
    "        else:\n",
    "            print('Test failed')\n",
    "            #print(\"in else\",driver.current_url)\n",
    "\n",
    "        driver.close()\n",
    "except:\n",
    "       print('Test failed')\n",
    "       driver.close()"
   ]
  },
  {
   "cell_type": "code",
   "execution_count": 7,
   "metadata": {},
   "outputs": [
    {
     "name": "stdout",
     "output_type": "stream",
     "text": [
      "Test passed\n"
     ]
    }
   ],
   "source": [
    "# View Teachers ---> Card View Of Teachers\n",
    "from selenium import webdriver\n",
    "import time\n",
    "try:\n",
    "        EXE_PATH = 'C:\\\\Users\\\\hp\\\\Downloads\\\\chromedriver_win32\\\\chromedriver.exe'\n",
    "        driver = webdriver.Chrome(executable_path=EXE_PATH)\n",
    "        host = 'file:///C:/Users/hp/Desktop/'\n",
    "        time_table = host + 'flameonepage-gh-pages/'\n",
    "        signup_link = time_table + 'view.html'\n",
    "        home_link=time_table+'admin_home.html'\n",
    "        #driver.get('http://192.168.43.211/php_resume/signup.html')\n",
    "        driver.get(signup_link)\n",
    "        #Bad email, good password # Expected:fail\n",
    "\n",
    "        submit = driver.find_element_by_id('admin_home').click()\n",
    "        time.sleep(3)\n",
    "        if(driver.current_url == home_link):\n",
    "            print('Test passed')\n",
    "        else:\n",
    "            print('Test failed')\n",
    "            #print(\"in else\",driver.current_url)\n",
    "\n",
    "        driver.close()\n",
    "except:\n",
    "       print('Test failed')\n",
    "       driver.close()"
   ]
  },
  {
   "cell_type": "code",
   "execution_count": 21,
   "metadata": {},
   "outputs": [
    {
     "ename": "SyntaxError",
     "evalue": "invalid syntax (<ipython-input-21-b0aca5f161d7>, line 7)",
     "output_type": "error",
     "traceback": [
      "\u001b[1;36m  File \u001b[1;32m\"<ipython-input-21-b0aca5f161d7>\"\u001b[1;36m, line \u001b[1;32m7\u001b[0m\n\u001b[1;33m    WebStorage webStorage = (WebStorage) new Augmenter().augment(driver);\u001b[0m\n\u001b[1;37m                        ^\u001b[0m\n\u001b[1;31mSyntaxError\u001b[0m\u001b[1;31m:\u001b[0m invalid syntax\n"
     ]
    }
   ],
   "source": [
    "from selenium import webdriver\n",
    "import time\n",
    "\n",
    "EXE_PATH = 'C:\\\\Users\\\\hp\\\\Downloads\\\\chromedriver_win32\\\\chromedriver.exe'\n",
    "driver = webdriver.Chrome(executable_path=EXE_PATH)\n",
    "\n",
    "WebStorage webStorage = (WebStorage) new Augmenter().augment(driver);\n",
    "LocalStorage localStorage = webStorage.getLocalStorage();\n",
    "localStorage"
   ]
  },
  {
   "cell_type": "code",
   "execution_count": 24,
   "metadata": {},
   "outputs": [],
   "source": [
    "from selenium import webdriver\n",
    "\n",
    "EXE_PATH = 'C:\\\\Users\\\\hp\\\\Downloads\\\\chromedriver_win32\\\\chromedriver.exe'\n",
    "driver = webdriver.Chrome(executable_path=EXE_PATH)\n",
    "host = 'file:///C:/Users/hp/Desktop/'\n",
    "time_table = host + 'flameonepage-gh-pages/'\n",
    "signup_link = time_table + 'loginhm.html'\n",
    "home_link=time_table+'profile.html'\n",
    "driver.get(signup_link)\n"
   ]
  },
  {
   "cell_type": "code",
   "execution_count": null,
   "metadata": {},
   "outputs": [],
   "source": []
  }
 ],
 "metadata": {
  "kernelspec": {
   "display_name": "Python 3",
   "language": "python",
   "name": "python3"
  },
  "language_info": {
   "codemirror_mode": {
    "name": "ipython",
    "version": 3
   },
   "file_extension": ".py",
   "mimetype": "text/x-python",
   "name": "python",
   "nbconvert_exporter": "python",
   "pygments_lexer": "ipython3",
   "version": "3.7.4"
  }
 },
 "nbformat": 4,
 "nbformat_minor": 2
}
